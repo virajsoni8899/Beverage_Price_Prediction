{
 "cells": [
  {
   "cell_type": "code",
   "id": "initial_id",
   "metadata": {
    "collapsed": true,
    "ExecuteTime": {
     "end_time": "2025-07-29T13:05:44.283889Z",
     "start_time": "2025-07-29T13:05:42.340728Z"
    }
   },
   "source": [
    "import pandas as pd\n",
    "import numpy as np\n",
    "from sklearn.model_selection import train_test_split\n",
    "from sklearn.linear_model import LogisticRegression\n",
    "from sklearn.naive_bayes import GaussianNB\n",
    "from sklearn.svm import SVC\n",
    "from sklearn.ensemble import RandomForestClassifier\n",
    "from xgboost import XGBClassifier\n",
    "from  lightgbm import LGBMClassifier\n",
    "from sklearn.preprocessing import LabelEncoder\n",
    "import joblib"
   ],
   "outputs": [],
   "execution_count": 1
  },
  {
   "metadata": {
    "ExecuteTime": {
     "end_time": "2025-07-29T13:05:44.949222Z",
     "start_time": "2025-07-29T13:05:44.611576Z"
    }
   },
   "cell_type": "code",
   "source": [
    "df = pd.read_csv('Transformed_survey_results.csv')\n",
    "df.head(3)"
   ],
   "id": "877478dd5b17a275",
   "outputs": [
    {
     "data": {
      "text/plain": [
       "  respondent_id gender  zone            occupation  income_levels  \\\n",
       "0        R00001      M     3  Working Professional              1   \n",
       "1        R00002      F     4  Working Professional              5   \n",
       "2        R00003      F     1  Working Professional              5   \n",
       "\n",
       "   consume_frequency(weekly) current_brand preferable_consumption_size  \\\n",
       "0                          2      Newcomer             Medium (500 ml)   \n",
       "1                          3   Established             Medium (500 ml)   \n",
       "2                          2      Newcomer             Medium (500 ml)   \n",
       "\n",
       "   awareness_of_other_brands reasons_for_choosing_brands flavor_preference  \\\n",
       "0                          1                       Price       Traditional   \n",
       "1                          2                     Quality            Exotic   \n",
       "2                          2                Availability       Traditional   \n",
       "\n",
       "  purchase_channel packaging_preference                       health_concerns  \\\n",
       "0           Online               Simple  Medium (Moderately health-conscious)   \n",
       "1     Retail Store              Premium  Medium (Moderately health-conscious)   \n",
       "2     Retail Store              Premium  Medium (Moderately health-conscious)   \n",
       "\n",
       "  typical_consumption_situations price_range age_group  cf_ab_score  \\\n",
       "0       Active (eg. Sports, gym)     100-150     26-35         0.67   \n",
       "1           Social (eg. Parties)     200-250     46-55         0.60   \n",
       "2       Active (eg. Sports, gym)     200-250     36-45         0.50   \n",
       "\n",
       "   zas_score  BSI  \n",
       "0          3    1  \n",
       "1         20    0  \n",
       "2          5    0  "
      ],
      "text/html": [
       "<div>\n",
       "<style scoped>\n",
       "    .dataframe tbody tr th:only-of-type {\n",
       "        vertical-align: middle;\n",
       "    }\n",
       "\n",
       "    .dataframe tbody tr th {\n",
       "        vertical-align: top;\n",
       "    }\n",
       "\n",
       "    .dataframe thead th {\n",
       "        text-align: right;\n",
       "    }\n",
       "</style>\n",
       "<table border=\"1\" class=\"dataframe\">\n",
       "  <thead>\n",
       "    <tr style=\"text-align: right;\">\n",
       "      <th></th>\n",
       "      <th>respondent_id</th>\n",
       "      <th>gender</th>\n",
       "      <th>zone</th>\n",
       "      <th>occupation</th>\n",
       "      <th>income_levels</th>\n",
       "      <th>consume_frequency(weekly)</th>\n",
       "      <th>current_brand</th>\n",
       "      <th>preferable_consumption_size</th>\n",
       "      <th>awareness_of_other_brands</th>\n",
       "      <th>reasons_for_choosing_brands</th>\n",
       "      <th>flavor_preference</th>\n",
       "      <th>purchase_channel</th>\n",
       "      <th>packaging_preference</th>\n",
       "      <th>health_concerns</th>\n",
       "      <th>typical_consumption_situations</th>\n",
       "      <th>price_range</th>\n",
       "      <th>age_group</th>\n",
       "      <th>cf_ab_score</th>\n",
       "      <th>zas_score</th>\n",
       "      <th>BSI</th>\n",
       "    </tr>\n",
       "  </thead>\n",
       "  <tbody>\n",
       "    <tr>\n",
       "      <th>0</th>\n",
       "      <td>R00001</td>\n",
       "      <td>M</td>\n",
       "      <td>3</td>\n",
       "      <td>Working Professional</td>\n",
       "      <td>1</td>\n",
       "      <td>2</td>\n",
       "      <td>Newcomer</td>\n",
       "      <td>Medium (500 ml)</td>\n",
       "      <td>1</td>\n",
       "      <td>Price</td>\n",
       "      <td>Traditional</td>\n",
       "      <td>Online</td>\n",
       "      <td>Simple</td>\n",
       "      <td>Medium (Moderately health-conscious)</td>\n",
       "      <td>Active (eg. Sports, gym)</td>\n",
       "      <td>100-150</td>\n",
       "      <td>26-35</td>\n",
       "      <td>0.67</td>\n",
       "      <td>3</td>\n",
       "      <td>1</td>\n",
       "    </tr>\n",
       "    <tr>\n",
       "      <th>1</th>\n",
       "      <td>R00002</td>\n",
       "      <td>F</td>\n",
       "      <td>4</td>\n",
       "      <td>Working Professional</td>\n",
       "      <td>5</td>\n",
       "      <td>3</td>\n",
       "      <td>Established</td>\n",
       "      <td>Medium (500 ml)</td>\n",
       "      <td>2</td>\n",
       "      <td>Quality</td>\n",
       "      <td>Exotic</td>\n",
       "      <td>Retail Store</td>\n",
       "      <td>Premium</td>\n",
       "      <td>Medium (Moderately health-conscious)</td>\n",
       "      <td>Social (eg. Parties)</td>\n",
       "      <td>200-250</td>\n",
       "      <td>46-55</td>\n",
       "      <td>0.60</td>\n",
       "      <td>20</td>\n",
       "      <td>0</td>\n",
       "    </tr>\n",
       "    <tr>\n",
       "      <th>2</th>\n",
       "      <td>R00003</td>\n",
       "      <td>F</td>\n",
       "      <td>1</td>\n",
       "      <td>Working Professional</td>\n",
       "      <td>5</td>\n",
       "      <td>2</td>\n",
       "      <td>Newcomer</td>\n",
       "      <td>Medium (500 ml)</td>\n",
       "      <td>2</td>\n",
       "      <td>Availability</td>\n",
       "      <td>Traditional</td>\n",
       "      <td>Retail Store</td>\n",
       "      <td>Premium</td>\n",
       "      <td>Medium (Moderately health-conscious)</td>\n",
       "      <td>Active (eg. Sports, gym)</td>\n",
       "      <td>200-250</td>\n",
       "      <td>36-45</td>\n",
       "      <td>0.50</td>\n",
       "      <td>5</td>\n",
       "      <td>0</td>\n",
       "    </tr>\n",
       "  </tbody>\n",
       "</table>\n",
       "</div>"
      ]
     },
     "execution_count": 2,
     "metadata": {},
     "output_type": "execute_result"
    }
   ],
   "execution_count": 2
  },
  {
   "metadata": {},
   "cell_type": "markdown",
   "source": "# spliting the data set for training",
   "id": "5bc59887b4a75193"
  },
  {
   "metadata": {
    "ExecuteTime": {
     "end_time": "2025-07-29T13:05:45.290629Z",
     "start_time": "2025-07-29T13:05:45.232425Z"
    }
   },
   "cell_type": "code",
   "source": [
    "df.drop(['respondent_id'],axis=1,inplace=True)\n",
    "df.head(2)"
   ],
   "id": "f6489552fba05dc9",
   "outputs": [
    {
     "data": {
      "text/plain": [
       "  gender  zone            occupation  income_levels  \\\n",
       "0      M     3  Working Professional              1   \n",
       "1      F     4  Working Professional              5   \n",
       "\n",
       "   consume_frequency(weekly) current_brand preferable_consumption_size  \\\n",
       "0                          2      Newcomer             Medium (500 ml)   \n",
       "1                          3   Established             Medium (500 ml)   \n",
       "\n",
       "   awareness_of_other_brands reasons_for_choosing_brands flavor_preference  \\\n",
       "0                          1                       Price       Traditional   \n",
       "1                          2                     Quality            Exotic   \n",
       "\n",
       "  purchase_channel packaging_preference                       health_concerns  \\\n",
       "0           Online               Simple  Medium (Moderately health-conscious)   \n",
       "1     Retail Store              Premium  Medium (Moderately health-conscious)   \n",
       "\n",
       "  typical_consumption_situations price_range age_group  cf_ab_score  \\\n",
       "0       Active (eg. Sports, gym)     100-150     26-35         0.67   \n",
       "1           Social (eg. Parties)     200-250     46-55         0.60   \n",
       "\n",
       "   zas_score  BSI  \n",
       "0          3    1  \n",
       "1         20    0  "
      ],
      "text/html": [
       "<div>\n",
       "<style scoped>\n",
       "    .dataframe tbody tr th:only-of-type {\n",
       "        vertical-align: middle;\n",
       "    }\n",
       "\n",
       "    .dataframe tbody tr th {\n",
       "        vertical-align: top;\n",
       "    }\n",
       "\n",
       "    .dataframe thead th {\n",
       "        text-align: right;\n",
       "    }\n",
       "</style>\n",
       "<table border=\"1\" class=\"dataframe\">\n",
       "  <thead>\n",
       "    <tr style=\"text-align: right;\">\n",
       "      <th></th>\n",
       "      <th>gender</th>\n",
       "      <th>zone</th>\n",
       "      <th>occupation</th>\n",
       "      <th>income_levels</th>\n",
       "      <th>consume_frequency(weekly)</th>\n",
       "      <th>current_brand</th>\n",
       "      <th>preferable_consumption_size</th>\n",
       "      <th>awareness_of_other_brands</th>\n",
       "      <th>reasons_for_choosing_brands</th>\n",
       "      <th>flavor_preference</th>\n",
       "      <th>purchase_channel</th>\n",
       "      <th>packaging_preference</th>\n",
       "      <th>health_concerns</th>\n",
       "      <th>typical_consumption_situations</th>\n",
       "      <th>price_range</th>\n",
       "      <th>age_group</th>\n",
       "      <th>cf_ab_score</th>\n",
       "      <th>zas_score</th>\n",
       "      <th>BSI</th>\n",
       "    </tr>\n",
       "  </thead>\n",
       "  <tbody>\n",
       "    <tr>\n",
       "      <th>0</th>\n",
       "      <td>M</td>\n",
       "      <td>3</td>\n",
       "      <td>Working Professional</td>\n",
       "      <td>1</td>\n",
       "      <td>2</td>\n",
       "      <td>Newcomer</td>\n",
       "      <td>Medium (500 ml)</td>\n",
       "      <td>1</td>\n",
       "      <td>Price</td>\n",
       "      <td>Traditional</td>\n",
       "      <td>Online</td>\n",
       "      <td>Simple</td>\n",
       "      <td>Medium (Moderately health-conscious)</td>\n",
       "      <td>Active (eg. Sports, gym)</td>\n",
       "      <td>100-150</td>\n",
       "      <td>26-35</td>\n",
       "      <td>0.67</td>\n",
       "      <td>3</td>\n",
       "      <td>1</td>\n",
       "    </tr>\n",
       "    <tr>\n",
       "      <th>1</th>\n",
       "      <td>F</td>\n",
       "      <td>4</td>\n",
       "      <td>Working Professional</td>\n",
       "      <td>5</td>\n",
       "      <td>3</td>\n",
       "      <td>Established</td>\n",
       "      <td>Medium (500 ml)</td>\n",
       "      <td>2</td>\n",
       "      <td>Quality</td>\n",
       "      <td>Exotic</td>\n",
       "      <td>Retail Store</td>\n",
       "      <td>Premium</td>\n",
       "      <td>Medium (Moderately health-conscious)</td>\n",
       "      <td>Social (eg. Parties)</td>\n",
       "      <td>200-250</td>\n",
       "      <td>46-55</td>\n",
       "      <td>0.60</td>\n",
       "      <td>20</td>\n",
       "      <td>0</td>\n",
       "    </tr>\n",
       "  </tbody>\n",
       "</table>\n",
       "</div>"
      ]
     },
     "execution_count": 3,
     "metadata": {},
     "output_type": "execute_result"
    }
   ],
   "execution_count": 3
  },
  {
   "metadata": {
    "ExecuteTime": {
     "end_time": "2025-07-29T13:05:45.719245Z",
     "start_time": "2025-07-29T13:05:45.697474Z"
    }
   },
   "cell_type": "code",
   "source": [
    "X = df.drop(['price_range'],axis=1)\n",
    "y = df['price_range']"
   ],
   "id": "7bf95aa51d530486",
   "outputs": [],
   "execution_count": 4
  },
  {
   "metadata": {
    "ExecuteTime": {
     "end_time": "2025-07-29T13:05:46.711066Z",
     "start_time": "2025-07-29T13:05:46.676535Z"
    }
   },
   "cell_type": "code",
   "source": "X_train, X_test, y_train, y_test = train_test_split(X, y, test_size=0.25, random_state=42)",
   "id": "ff9d46b915ff9120",
   "outputs": [],
   "execution_count": 5
  },
  {
   "metadata": {},
   "cell_type": "markdown",
   "source": "# Feature encoding",
   "id": "b197ce8b7f5e605b"
  },
  {
   "metadata": {
    "ExecuteTime": {
     "end_time": "2025-07-29T13:05:46.931510Z",
     "start_time": "2025-07-29T13:05:46.882462Z"
    }
   },
   "cell_type": "code",
   "source": [
    "label_cols = ['age_group','income_levels','health_concerns','consume_frequency(weekly)','preferable_consumption_size']\n",
    "\n",
    "le = LabelEncoder()\n",
    "\n",
    "for col in label_cols:\n",
    "    X_train[col] = le.fit_transform(X_train[col])\n",
    "    X_test[col] = le.transform(X_test[col])"
   ],
   "id": "12fb2e0a72ff3782",
   "outputs": [],
   "execution_count": 6
  },
  {
   "metadata": {
    "ExecuteTime": {
     "end_time": "2025-07-29T13:05:47.083296Z",
     "start_time": "2025-07-29T13:05:47.048698Z"
    }
   },
   "cell_type": "code",
   "source": "X_train['consume_frequency(weekly)'].value_counts()",
   "id": "7d3ff317ff9ab064",
   "outputs": [
    {
     "data": {
      "text/plain": [
       "consume_frequency(weekly)\n",
       "1    8810\n",
       "2    7314\n",
       "0    6343\n",
       "Name: count, dtype: int64"
      ]
     },
     "execution_count": 7,
     "metadata": {},
     "output_type": "execute_result"
    }
   ],
   "execution_count": 7
  },
  {
   "metadata": {
    "ExecuteTime": {
     "end_time": "2025-07-29T13:05:47.449056Z",
     "start_time": "2025-07-29T13:05:47.303081Z"
    }
   },
   "cell_type": "code",
   "source": [
    "remaining_cols = X_train.select_dtypes(include=['object']).columns.tolist()\n",
    "X_train = pd.get_dummies(X_train, columns=remaining_cols,drop_first=True)\n",
    "X_test = pd.get_dummies(X_test, columns=remaining_cols, drop_first=True)\n",
    "\n",
    "X_test = X_test.reindex(columns=X_train.columns, fill_value=0)"
   ],
   "id": "b0d060a4ac47cdc9",
   "outputs": [],
   "execution_count": 8
  },
  {
   "metadata": {
    "ExecuteTime": {
     "end_time": "2025-07-29T13:05:51.075305Z",
     "start_time": "2025-07-29T13:05:51.053850Z"
    }
   },
   "cell_type": "code",
   "source": "remaining_cols",
   "id": "4a4fd9846a42be30",
   "outputs": [
    {
     "data": {
      "text/plain": [
       "['gender',\n",
       " 'occupation',\n",
       " 'current_brand',\n",
       " 'reasons_for_choosing_brands',\n",
       " 'flavor_preference',\n",
       " 'purchase_channel',\n",
       " 'packaging_preference',\n",
       " 'typical_consumption_situations']"
      ]
     },
     "execution_count": 9,
     "metadata": {},
     "output_type": "execute_result"
    }
   ],
   "execution_count": 9
  },
  {
   "metadata": {
    "ExecuteTime": {
     "end_time": "2025-07-29T13:05:53.169619Z",
     "start_time": "2025-07-29T13:05:53.110955Z"
    }
   },
   "cell_type": "code",
   "source": "X_train",
   "id": "c13b84d28bdc09ea",
   "outputs": [
    {
     "data": {
      "text/plain": [
       "       zone  income_levels  consume_frequency(weekly)  \\\n",
       "8374      2              2                          0   \n",
       "26345     3              3                          2   \n",
       "11256     3              0                          1   \n",
       "9091      4              3                          1   \n",
       "3369      4              3                          0   \n",
       "...     ...            ...                        ...   \n",
       "29802     3              5                          0   \n",
       "5390      4              3                          2   \n",
       "860       1              2                          0   \n",
       "15795     2              2                          1   \n",
       "23654     3              0                          0   \n",
       "\n",
       "       preferable_consumption_size  awareness_of_other_brands  \\\n",
       "8374                             2                          3   \n",
       "26345                            1                          2   \n",
       "11256                            2                          2   \n",
       "9091                             0                          2   \n",
       "3369                             0                          3   \n",
       "...                            ...                        ...   \n",
       "29802                            2                          3   \n",
       "5390                             0                          2   \n",
       "860                              1                          1   \n",
       "15795                            1                          1   \n",
       "23654                            2                          1   \n",
       "\n",
       "       health_concerns  age_group  cf_ab_score  zas_score  BSI  ...  \\\n",
       "8374                 1          0         0.25          4    0  ...   \n",
       "26345                2          0         0.60          9    0  ...   \n",
       "11256                2          0         0.50          0    1  ...   \n",
       "9091                 1          1         0.50         12    0  ...   \n",
       "3369                 2          1         0.25         12    0  ...   \n",
       "...                ...        ...          ...        ...  ...  ...   \n",
       "29802                0          4         0.25         15    0  ...   \n",
       "5390                 1          1         0.60         12    1  ...   \n",
       "860                  2          2         0.50          2    0  ...   \n",
       "15795                0          1         0.67          4    1  ...   \n",
       "23654                1          0         0.50          0    1  ...   \n",
       "\n",
       "       current_brand_Newcomer  reasons_for_choosing_brands_Brand Reputation  \\\n",
       "8374                     True                                         False   \n",
       "26345                   False                                         False   \n",
       "11256                    True                                         False   \n",
       "9091                    False                                         False   \n",
       "3369                    False                                          True   \n",
       "...                       ...                                           ...   \n",
       "29802                   False                                         False   \n",
       "5390                     True                                         False   \n",
       "860                     False                                         False   \n",
       "15795                    True                                         False   \n",
       "23654                    True                                         False   \n",
       "\n",
       "       reasons_for_choosing_brands_Price  reasons_for_choosing_brands_Quality  \\\n",
       "8374                               False                                False   \n",
       "26345                              False                                 True   \n",
       "11256                               True                                False   \n",
       "9091                               False                                 True   \n",
       "3369                               False                                False   \n",
       "...                                  ...                                  ...   \n",
       "29802                              False                                 True   \n",
       "5390                               False                                 True   \n",
       "860                                 True                                False   \n",
       "15795                               True                                False   \n",
       "23654                               True                                False   \n",
       "\n",
       "       flavor_preference_Traditional  purchase_channel_Retail Store  \\\n",
       "8374                            True                          False   \n",
       "26345                           True                          False   \n",
       "11256                           True                          False   \n",
       "9091                            True                          False   \n",
       "3369                            True                          False   \n",
       "...                              ...                            ...   \n",
       "29802                          False                           True   \n",
       "5390                            True                           True   \n",
       "860                            False                           True   \n",
       "15795                          False                          False   \n",
       "23654                          False                          False   \n",
       "\n",
       "       packaging_preference_Premium  packaging_preference_Simple  \\\n",
       "8374                          False                         True   \n",
       "26345                          True                        False   \n",
       "11256                         False                         True   \n",
       "9091                           True                        False   \n",
       "3369                          False                        False   \n",
       "...                             ...                          ...   \n",
       "29802                          True                        False   \n",
       "5390                           True                        False   \n",
       "860                           False                         True   \n",
       "15795                         False                        False   \n",
       "23654                         False                         True   \n",
       "\n",
       "       typical_consumption_situations_Casual (eg. At home)  \\\n",
       "8374                                               False     \n",
       "26345                                              False     \n",
       "11256                                              False     \n",
       "9091                                               False     \n",
       "3369                                                True     \n",
       "...                                                  ...     \n",
       "29802                                               True     \n",
       "5390                                               False     \n",
       "860                                                False     \n",
       "15795                                              False     \n",
       "23654                                              False     \n",
       "\n",
       "       typical_consumption_situations_Social (eg. Parties)  \n",
       "8374                                                True    \n",
       "26345                                               True    \n",
       "11256                                              False    \n",
       "9091                                               False    \n",
       "3369                                               False    \n",
       "...                                                  ...    \n",
       "29802                                              False    \n",
       "5390                                               False    \n",
       "860                                                 True    \n",
       "15795                                               True    \n",
       "23654                                              False    \n",
       "\n",
       "[22467 rows x 24 columns]"
      ],
      "text/html": [
       "<div>\n",
       "<style scoped>\n",
       "    .dataframe tbody tr th:only-of-type {\n",
       "        vertical-align: middle;\n",
       "    }\n",
       "\n",
       "    .dataframe tbody tr th {\n",
       "        vertical-align: top;\n",
       "    }\n",
       "\n",
       "    .dataframe thead th {\n",
       "        text-align: right;\n",
       "    }\n",
       "</style>\n",
       "<table border=\"1\" class=\"dataframe\">\n",
       "  <thead>\n",
       "    <tr style=\"text-align: right;\">\n",
       "      <th></th>\n",
       "      <th>zone</th>\n",
       "      <th>income_levels</th>\n",
       "      <th>consume_frequency(weekly)</th>\n",
       "      <th>preferable_consumption_size</th>\n",
       "      <th>awareness_of_other_brands</th>\n",
       "      <th>health_concerns</th>\n",
       "      <th>age_group</th>\n",
       "      <th>cf_ab_score</th>\n",
       "      <th>zas_score</th>\n",
       "      <th>BSI</th>\n",
       "      <th>...</th>\n",
       "      <th>current_brand_Newcomer</th>\n",
       "      <th>reasons_for_choosing_brands_Brand Reputation</th>\n",
       "      <th>reasons_for_choosing_brands_Price</th>\n",
       "      <th>reasons_for_choosing_brands_Quality</th>\n",
       "      <th>flavor_preference_Traditional</th>\n",
       "      <th>purchase_channel_Retail Store</th>\n",
       "      <th>packaging_preference_Premium</th>\n",
       "      <th>packaging_preference_Simple</th>\n",
       "      <th>typical_consumption_situations_Casual (eg. At home)</th>\n",
       "      <th>typical_consumption_situations_Social (eg. Parties)</th>\n",
       "    </tr>\n",
       "  </thead>\n",
       "  <tbody>\n",
       "    <tr>\n",
       "      <th>8374</th>\n",
       "      <td>2</td>\n",
       "      <td>2</td>\n",
       "      <td>0</td>\n",
       "      <td>2</td>\n",
       "      <td>3</td>\n",
       "      <td>1</td>\n",
       "      <td>0</td>\n",
       "      <td>0.25</td>\n",
       "      <td>4</td>\n",
       "      <td>0</td>\n",
       "      <td>...</td>\n",
       "      <td>True</td>\n",
       "      <td>False</td>\n",
       "      <td>False</td>\n",
       "      <td>False</td>\n",
       "      <td>True</td>\n",
       "      <td>False</td>\n",
       "      <td>False</td>\n",
       "      <td>True</td>\n",
       "      <td>False</td>\n",
       "      <td>True</td>\n",
       "    </tr>\n",
       "    <tr>\n",
       "      <th>26345</th>\n",
       "      <td>3</td>\n",
       "      <td>3</td>\n",
       "      <td>2</td>\n",
       "      <td>1</td>\n",
       "      <td>2</td>\n",
       "      <td>2</td>\n",
       "      <td>0</td>\n",
       "      <td>0.60</td>\n",
       "      <td>9</td>\n",
       "      <td>0</td>\n",
       "      <td>...</td>\n",
       "      <td>False</td>\n",
       "      <td>False</td>\n",
       "      <td>False</td>\n",
       "      <td>True</td>\n",
       "      <td>True</td>\n",
       "      <td>False</td>\n",
       "      <td>True</td>\n",
       "      <td>False</td>\n",
       "      <td>False</td>\n",
       "      <td>True</td>\n",
       "    </tr>\n",
       "    <tr>\n",
       "      <th>11256</th>\n",
       "      <td>3</td>\n",
       "      <td>0</td>\n",
       "      <td>1</td>\n",
       "      <td>2</td>\n",
       "      <td>2</td>\n",
       "      <td>2</td>\n",
       "      <td>0</td>\n",
       "      <td>0.50</td>\n",
       "      <td>0</td>\n",
       "      <td>1</td>\n",
       "      <td>...</td>\n",
       "      <td>True</td>\n",
       "      <td>False</td>\n",
       "      <td>True</td>\n",
       "      <td>False</td>\n",
       "      <td>True</td>\n",
       "      <td>False</td>\n",
       "      <td>False</td>\n",
       "      <td>True</td>\n",
       "      <td>False</td>\n",
       "      <td>False</td>\n",
       "    </tr>\n",
       "    <tr>\n",
       "      <th>9091</th>\n",
       "      <td>4</td>\n",
       "      <td>3</td>\n",
       "      <td>1</td>\n",
       "      <td>0</td>\n",
       "      <td>2</td>\n",
       "      <td>1</td>\n",
       "      <td>1</td>\n",
       "      <td>0.50</td>\n",
       "      <td>12</td>\n",
       "      <td>0</td>\n",
       "      <td>...</td>\n",
       "      <td>False</td>\n",
       "      <td>False</td>\n",
       "      <td>False</td>\n",
       "      <td>True</td>\n",
       "      <td>True</td>\n",
       "      <td>False</td>\n",
       "      <td>True</td>\n",
       "      <td>False</td>\n",
       "      <td>False</td>\n",
       "      <td>False</td>\n",
       "    </tr>\n",
       "    <tr>\n",
       "      <th>3369</th>\n",
       "      <td>4</td>\n",
       "      <td>3</td>\n",
       "      <td>0</td>\n",
       "      <td>0</td>\n",
       "      <td>3</td>\n",
       "      <td>2</td>\n",
       "      <td>1</td>\n",
       "      <td>0.25</td>\n",
       "      <td>12</td>\n",
       "      <td>0</td>\n",
       "      <td>...</td>\n",
       "      <td>False</td>\n",
       "      <td>True</td>\n",
       "      <td>False</td>\n",
       "      <td>False</td>\n",
       "      <td>True</td>\n",
       "      <td>False</td>\n",
       "      <td>False</td>\n",
       "      <td>False</td>\n",
       "      <td>True</td>\n",
       "      <td>False</td>\n",
       "    </tr>\n",
       "    <tr>\n",
       "      <th>...</th>\n",
       "      <td>...</td>\n",
       "      <td>...</td>\n",
       "      <td>...</td>\n",
       "      <td>...</td>\n",
       "      <td>...</td>\n",
       "      <td>...</td>\n",
       "      <td>...</td>\n",
       "      <td>...</td>\n",
       "      <td>...</td>\n",
       "      <td>...</td>\n",
       "      <td>...</td>\n",
       "      <td>...</td>\n",
       "      <td>...</td>\n",
       "      <td>...</td>\n",
       "      <td>...</td>\n",
       "      <td>...</td>\n",
       "      <td>...</td>\n",
       "      <td>...</td>\n",
       "      <td>...</td>\n",
       "      <td>...</td>\n",
       "      <td>...</td>\n",
       "    </tr>\n",
       "    <tr>\n",
       "      <th>29802</th>\n",
       "      <td>3</td>\n",
       "      <td>5</td>\n",
       "      <td>0</td>\n",
       "      <td>2</td>\n",
       "      <td>3</td>\n",
       "      <td>0</td>\n",
       "      <td>4</td>\n",
       "      <td>0.25</td>\n",
       "      <td>15</td>\n",
       "      <td>0</td>\n",
       "      <td>...</td>\n",
       "      <td>False</td>\n",
       "      <td>False</td>\n",
       "      <td>False</td>\n",
       "      <td>True</td>\n",
       "      <td>False</td>\n",
       "      <td>True</td>\n",
       "      <td>True</td>\n",
       "      <td>False</td>\n",
       "      <td>True</td>\n",
       "      <td>False</td>\n",
       "    </tr>\n",
       "    <tr>\n",
       "      <th>5390</th>\n",
       "      <td>4</td>\n",
       "      <td>3</td>\n",
       "      <td>2</td>\n",
       "      <td>0</td>\n",
       "      <td>2</td>\n",
       "      <td>1</td>\n",
       "      <td>1</td>\n",
       "      <td>0.60</td>\n",
       "      <td>12</td>\n",
       "      <td>1</td>\n",
       "      <td>...</td>\n",
       "      <td>True</td>\n",
       "      <td>False</td>\n",
       "      <td>False</td>\n",
       "      <td>True</td>\n",
       "      <td>True</td>\n",
       "      <td>True</td>\n",
       "      <td>True</td>\n",
       "      <td>False</td>\n",
       "      <td>False</td>\n",
       "      <td>False</td>\n",
       "    </tr>\n",
       "    <tr>\n",
       "      <th>860</th>\n",
       "      <td>1</td>\n",
       "      <td>2</td>\n",
       "      <td>0</td>\n",
       "      <td>1</td>\n",
       "      <td>1</td>\n",
       "      <td>2</td>\n",
       "      <td>2</td>\n",
       "      <td>0.50</td>\n",
       "      <td>2</td>\n",
       "      <td>0</td>\n",
       "      <td>...</td>\n",
       "      <td>False</td>\n",
       "      <td>False</td>\n",
       "      <td>True</td>\n",
       "      <td>False</td>\n",
       "      <td>False</td>\n",
       "      <td>True</td>\n",
       "      <td>False</td>\n",
       "      <td>True</td>\n",
       "      <td>False</td>\n",
       "      <td>True</td>\n",
       "    </tr>\n",
       "    <tr>\n",
       "      <th>15795</th>\n",
       "      <td>2</td>\n",
       "      <td>2</td>\n",
       "      <td>1</td>\n",
       "      <td>1</td>\n",
       "      <td>1</td>\n",
       "      <td>0</td>\n",
       "      <td>1</td>\n",
       "      <td>0.67</td>\n",
       "      <td>4</td>\n",
       "      <td>1</td>\n",
       "      <td>...</td>\n",
       "      <td>True</td>\n",
       "      <td>False</td>\n",
       "      <td>True</td>\n",
       "      <td>False</td>\n",
       "      <td>False</td>\n",
       "      <td>False</td>\n",
       "      <td>False</td>\n",
       "      <td>False</td>\n",
       "      <td>False</td>\n",
       "      <td>True</td>\n",
       "    </tr>\n",
       "    <tr>\n",
       "      <th>23654</th>\n",
       "      <td>3</td>\n",
       "      <td>0</td>\n",
       "      <td>0</td>\n",
       "      <td>2</td>\n",
       "      <td>1</td>\n",
       "      <td>1</td>\n",
       "      <td>0</td>\n",
       "      <td>0.50</td>\n",
       "      <td>0</td>\n",
       "      <td>1</td>\n",
       "      <td>...</td>\n",
       "      <td>True</td>\n",
       "      <td>False</td>\n",
       "      <td>True</td>\n",
       "      <td>False</td>\n",
       "      <td>False</td>\n",
       "      <td>False</td>\n",
       "      <td>False</td>\n",
       "      <td>True</td>\n",
       "      <td>False</td>\n",
       "      <td>False</td>\n",
       "    </tr>\n",
       "  </tbody>\n",
       "</table>\n",
       "<p>22467 rows × 24 columns</p>\n",
       "</div>"
      ]
     },
     "execution_count": 10,
     "metadata": {},
     "output_type": "execute_result"
    }
   ],
   "execution_count": 10
  },
  {
   "metadata": {
    "ExecuteTime": {
     "end_time": "2025-07-29T13:05:56.914530Z",
     "start_time": "2025-07-29T13:05:56.873792Z"
    }
   },
   "cell_type": "code",
   "source": [
    "label_encoder_y = LabelEncoder()\n",
    "y_train = label_encoder_y.fit_transform(y_train)\n",
    "y_test = label_encoder_y.transform(y_test)"
   ],
   "id": "1a10df8316814728",
   "outputs": [],
   "execution_count": 11
  },
  {
   "metadata": {},
   "cell_type": "code",
   "source": "list(le.classes_)",
   "id": "e99e70c0bcc44de2",
   "outputs": [],
   "execution_count": null
  },
  {
   "metadata": {
    "ExecuteTime": {
     "end_time": "2025-07-29T13:05:59.548649Z",
     "start_time": "2025-07-29T13:05:59.530825Z"
    }
   },
   "cell_type": "code",
   "source": "from sklearn.metrics import accuracy_score, classification_report",
   "id": "766ea8c8155eea2a",
   "outputs": [],
   "execution_count": 12
  },
  {
   "metadata": {},
   "cell_type": "markdown",
   "source": "# Logistic Model",
   "id": "134f976f4c56aa61"
  },
  {
   "metadata": {
    "ExecuteTime": {
     "end_time": "2025-07-29T13:06:08.093545Z",
     "start_time": "2025-07-29T13:06:02.188092Z"
    }
   },
   "cell_type": "code",
   "source": [
    "model_lr = LogisticRegression(max_iter=1000)\n",
    "model_lr.fit(X_train, y_train)\n",
    "y_pred = model_lr.predict(X_test)\n",
    "print(\"Accuracy:\", accuracy_score(y_test, y_pred))\n",
    "print('Classification Report:\\n', classification_report(y_test, y_pred))"
   ],
   "id": "e28682fc6fbba99",
   "outputs": [
    {
     "name": "stdout",
     "output_type": "stream",
     "text": [
      "Accuracy: 0.7935638937107758\n",
      "Classification Report:\n",
      "               precision    recall  f1-score   support\n",
      "\n",
      "           0       0.74      0.75      0.74      1930\n",
      "           1       0.74      0.76      0.75      2223\n",
      "           2       0.89      0.88      0.89      2430\n",
      "           3       0.79      0.74      0.76       906\n",
      "\n",
      "    accuracy                           0.79      7489\n",
      "   macro avg       0.79      0.78      0.79      7489\n",
      "weighted avg       0.79      0.79      0.79      7489\n",
      "\n"
     ]
    }
   ],
   "execution_count": 13
  },
  {
   "metadata": {},
   "cell_type": "markdown",
   "source": "# model GaussianNB",
   "id": "14c7acf3ac3da704"
  },
  {
   "metadata": {
    "ExecuteTime": {
     "end_time": "2025-07-29T13:06:08.300746Z",
     "start_time": "2025-07-29T13:06:08.205078Z"
    }
   },
   "cell_type": "code",
   "source": [
    "model_nb = GaussianNB()\n",
    "model_nb.fit(X_train, y_train)\n",
    "y_pred_nb = model_nb.predict(X_test)\n",
    "print(\"Accuracy:\", accuracy_score(y_test, y_pred_nb))\n",
    "print(\"Classification Report\", classification_report(y_test, y_pred_nb))"
   ],
   "id": "92f7ca3a43f15cd1",
   "outputs": [
    {
     "name": "stdout",
     "output_type": "stream",
     "text": [
      "Accuracy: 0.5661637067699292\n",
      "Classification Report               precision    recall  f1-score   support\n",
      "\n",
      "           0       0.45      0.25      0.32      1930\n",
      "           1       0.59      0.34      0.43      2223\n",
      "           2       0.70      0.89      0.78      2430\n",
      "           3       0.42      0.92      0.58       906\n",
      "\n",
      "    accuracy                           0.57      7489\n",
      "   macro avg       0.54      0.60      0.53      7489\n",
      "weighted avg       0.57      0.57      0.53      7489\n",
      "\n"
     ]
    }
   ],
   "execution_count": 14
  },
  {
   "metadata": {},
   "cell_type": "markdown",
   "source": "# model Support Vector Machine (SVM)",
   "id": "cad295efe64398ac"
  },
  {
   "metadata": {
    "ExecuteTime": {
     "end_time": "2025-07-29T13:07:03.124122Z",
     "start_time": "2025-07-29T13:06:14.469623Z"
    }
   },
   "cell_type": "code",
   "source": [
    "model_svm = SVC()\n",
    "model_svm.fit(X_train, y_train)\n",
    "y_pred_svm = model_svm.predict(X_test)\n",
    "print(\"Accuracy:\", accuracy_score(y_test, y_pred_svm))\n",
    "print(\"Classification Report\", classification_report(y_test, y_pred_svm))"
   ],
   "id": "64cf298e10ed4c6e",
   "outputs": [
    {
     "name": "stdout",
     "output_type": "stream",
     "text": [
      "Accuracy: 0.8129256242488984\n",
      "Classification Report               precision    recall  f1-score   support\n",
      "\n",
      "           0       0.75      0.77      0.76      1930\n",
      "           1       0.76      0.79      0.78      2223\n",
      "           2       0.91      0.90      0.90      2430\n",
      "           3       0.82      0.74      0.78       906\n",
      "\n",
      "    accuracy                           0.81      7489\n",
      "   macro avg       0.81      0.80      0.80      7489\n",
      "weighted avg       0.81      0.81      0.81      7489\n",
      "\n"
     ]
    }
   ],
   "execution_count": 15
  },
  {
   "metadata": {},
   "cell_type": "markdown",
   "source": "# model Random Forest",
   "id": "5b1587ee45759194"
  },
  {
   "metadata": {
    "ExecuteTime": {
     "end_time": "2025-07-29T13:07:07.247945Z",
     "start_time": "2025-07-29T13:07:03.209151Z"
    }
   },
   "cell_type": "code",
   "source": [
    "model_rf = RandomForestClassifier()\n",
    "model_rf.fit(X_train, y_train)\n",
    "y_pred_rf = model_rf.predict(X_test)\n",
    "print(\"Accuracy:\", accuracy_score(y_test, y_pred_rf))\n",
    "print(\"Classification Report\", classification_report(y_test, y_pred_rf))"
   ],
   "id": "2f564f1825f9797c",
   "outputs": [
    {
     "name": "stdout",
     "output_type": "stream",
     "text": [
      "Accuracy: 0.8973160635598878\n",
      "Classification Report               precision    recall  f1-score   support\n",
      "\n",
      "           0       0.89      0.87      0.88      1930\n",
      "           1       0.85      0.89      0.87      2223\n",
      "           2       0.94      0.93      0.94      2430\n",
      "           3       0.92      0.88      0.90       906\n",
      "\n",
      "    accuracy                           0.90      7489\n",
      "   macro avg       0.90      0.89      0.90      7489\n",
      "weighted avg       0.90      0.90      0.90      7489\n",
      "\n"
     ]
    }
   ],
   "execution_count": 16
  },
  {
   "metadata": {},
   "cell_type": "markdown",
   "source": "# model XGBOOST",
   "id": "335f09975219b069"
  },
  {
   "metadata": {
    "ExecuteTime": {
     "end_time": "2025-07-29T13:07:08.930741Z",
     "start_time": "2025-07-29T13:07:07.321512Z"
    }
   },
   "cell_type": "code",
   "source": [
    "model_xgb = XGBClassifier()\n",
    "model_xgb.fit(X_train, y_train)\n",
    "y_pred_xgb = model_xgb.predict(X_test)\n",
    "print(\"Accuracy:\", accuracy_score(y_test, y_pred_xgb))\n",
    "print(\"Classification Report\", classification_report(y_test, y_pred_xgb))"
   ],
   "id": "fbf8c2fa67938931",
   "outputs": [
    {
     "name": "stdout",
     "output_type": "stream",
     "text": [
      "Accuracy: 0.9245560154893844\n",
      "Classification Report               precision    recall  f1-score   support\n",
      "\n",
      "           0       0.92      0.91      0.91      1930\n",
      "           1       0.90      0.91      0.91      2223\n",
      "           2       0.96      0.95      0.95      2430\n",
      "           3       0.92      0.92      0.92       906\n",
      "\n",
      "    accuracy                           0.92      7489\n",
      "   macro avg       0.92      0.92      0.92      7489\n",
      "weighted avg       0.92      0.92      0.92      7489\n",
      "\n"
     ]
    }
   ],
   "execution_count": 17
  },
  {
   "metadata": {},
   "cell_type": "markdown",
   "source": "# model Light GBM",
   "id": "15214afbfc03228c"
  },
  {
   "metadata": {
    "ExecuteTime": {
     "end_time": "2025-07-29T13:07:15.516042Z",
     "start_time": "2025-07-29T13:07:09.051231Z"
    }
   },
   "cell_type": "code",
   "source": [
    "model_lgbm = LGBMClassifier(force_col_wise=True)\n",
    "model_lgbm.fit(X_train, y_train)\n",
    "y_pred_lgbm = model_lgbm.predict(X_test)\n",
    "print(\"Accuracy:\", accuracy_score(y_test, y_pred_lgbm))\n",
    "print(\"Classification Report\", classification_report(y_test, y_pred_lgbm))"
   ],
   "id": "5524ad305a67e7e4",
   "outputs": [
    {
     "name": "stdout",
     "output_type": "stream",
     "text": [
      "[LightGBM] [Warning] Found whitespace in feature_names, replace with underlines\n",
      "[LightGBM] [Info] Total Bins 81\n",
      "[LightGBM] [Info] Number of data points in the train set: 22467, number of used features: 24\n",
      "[LightGBM] [Info] Start training from score -1.343386\n",
      "[LightGBM] [Info] Start training from score -1.228925\n",
      "[LightGBM] [Info] Start training from score -1.126779\n",
      "[LightGBM] [Info] Start training from score -2.100810\n",
      "Accuracy: 0.9266924823073842\n",
      "Classification Report               precision    recall  f1-score   support\n",
      "\n",
      "           0       0.92      0.90      0.91      1930\n",
      "           1       0.90      0.92      0.91      2223\n",
      "           2       0.96      0.96      0.96      2430\n",
      "           3       0.92      0.92      0.92       906\n",
      "\n",
      "    accuracy                           0.93      7489\n",
      "   macro avg       0.92      0.92      0.92      7489\n",
      "weighted avg       0.93      0.93      0.93      7489\n",
      "\n"
     ]
    }
   ],
   "execution_count": 18
  },
  {
   "metadata": {
    "ExecuteTime": {
     "end_time": "2025-07-29T13:07:20.751916Z",
     "start_time": "2025-07-29T13:07:20.648118Z"
    }
   },
   "cell_type": "code",
   "source": "joblib.dump(model_lgbm, 'final_beverage_model.pkl')",
   "id": "8c58403fef69faa4",
   "outputs": [
    {
     "data": {
      "text/plain": [
       "['final_beverage_model.pkl']"
      ]
     },
     "execution_count": 19,
     "metadata": {},
     "output_type": "execute_result"
    }
   ],
   "execution_count": 19
  },
  {
   "metadata": {
    "ExecuteTime": {
     "end_time": "2025-07-29T13:07:22.688026Z",
     "start_time": "2025-07-29T13:07:22.660881Z"
    }
   },
   "cell_type": "code",
   "source": "joblib.dump(X_train.columns.tolist(), 'expected_columns.pkl')",
   "id": "533c4caeb0a31abb",
   "outputs": [
    {
     "data": {
      "text/plain": [
       "['expected_columns.pkl']"
      ]
     },
     "execution_count": 20,
     "metadata": {},
     "output_type": "execute_result"
    }
   ],
   "execution_count": 20
  },
  {
   "metadata": {
    "ExecuteTime": {
     "end_time": "2025-07-29T13:07:25.939953Z",
     "start_time": "2025-07-29T13:07:25.920639Z"
    }
   },
   "cell_type": "code",
   "source": "joblib.dump(label_encoder_y, 'label_encoder_y.pkl')",
   "id": "c9ccce3b67f9789a",
   "outputs": [
    {
     "data": {
      "text/plain": [
       "['label_encoder_y.pkl']"
      ]
     },
     "execution_count": 21,
     "metadata": {},
     "output_type": "execute_result"
    }
   ],
   "execution_count": 21
  },
  {
   "metadata": {},
   "cell_type": "markdown",
   "source": "#### best performing model is LightGBM",
   "id": "72125c9521c5a33a"
  },
  {
   "metadata": {},
   "cell_type": "markdown",
   "source": "# ML Flow",
   "id": "cba2440f77a23eda"
  },
  {
   "metadata": {},
   "cell_type": "code",
   "source": [
    "models = [\n",
    "    (\n",
    "        \"Logistic Regression\",\n",
    "        model_lr,\n",
    "        (X_train, y_train),\n",
    "        (X_test, y_test)\n",
    "    ),\n",
    "    (\n",
    "        'GaussianNB',\n",
    "        model_nb,\n",
    "        (X_train, y_train),\n",
    "        (X_test, y_test)\n",
    "    ),\n",
    "    (\n",
    "        'Support Vector Machine',\n",
    "        model_svm,\n",
    "        (X_train, y_train),\n",
    "        (X_test, y_test)\n",
    "    ),\n",
    "    (\n",
    "        'Random Forest',\n",
    "        model_rf,\n",
    "        (X_train, y_train),\n",
    "        (X_test, y_test)\n",
    "    ),\n",
    "    (\n",
    "        'XGBOOST',\n",
    "        model_xgb,\n",
    "        (X_train, y_train),\n",
    "        (X_test, y_test)\n",
    "    ),\n",
    "    (\n",
    "        'LightGBM',\n",
    "        model_lgbm,\n",
    "        (X_train, y_train),\n",
    "        (X_test, y_test)\n",
    "    )\n",
    "]"
   ],
   "id": "a0bed51f39b5f7ae",
   "outputs": [],
   "execution_count": null
  },
  {
   "metadata": {},
   "cell_type": "code",
   "source": [
    "reports = []\n",
    "for model_name, model, train_set, test_set in models:\n",
    "    X_train = train_set[0]\n",
    "    y_train = train_set[1]\n",
    "    X_test = test_set[0]\n",
    "    y_test = test_set[1]\n",
    "\n",
    "    model.fit(X_train, y_train)\n",
    "    y_pred = model.predict(X_test)\n",
    "    report = classification_report(y_test, y_pred, output_dict=True)\n",
    "    reports.append(report)"
   ],
   "id": "707edb13b450c940",
   "outputs": [],
   "execution_count": null
  },
  {
   "metadata": {},
   "cell_type": "code",
   "source": "reports",
   "id": "36313b363e3c99ec",
   "outputs": [],
   "execution_count": null
  },
  {
   "metadata": {},
   "cell_type": "code",
   "source": "import mlflow",
   "id": "60b3214bc6b7e73e",
   "outputs": [],
   "execution_count": null
  },
  {
   "metadata": {},
   "cell_type": "code",
   "source": [
    "import dagshub\n",
    "dagshub.init(repo_owner='virajsoni191',\n",
    "             repo_name='project-codex',\n",
    "             mlflow=True)\n",
    "\n",
    "mlflow.set_experiment('Beverage_Price_Prediction')\n",
    "\n",
    "\n",
    "for i, element in enumerate(models):\n",
    "    model_name = element[0]\n",
    "    model = element[1]\n",
    "    report = reports[i]\n",
    "\n",
    "    with mlflow.start_run(run_name=model_name):\n",
    "        mlflow.log_param('model_name', model_name)\n",
    "        mlflow.log_metric('accuracy', report['accuracy'])\n",
    "        mlflow.log_metric('recall_class_0', report['0']['recall'])\n",
    "        mlflow.log_metric('precision_class_0', report['0']['precision'])\n",
    "        mlflow.log_metric('recall_class_1', report['1']['recall'])\n",
    "        mlflow.log_metric('precision_class_1', report['1']['precision'])\n",
    "        mlflow.log_metric('recall_class_2', report['2']['recall'])\n",
    "        mlflow.log_metric('precision_class_2', report['2']['precision'])\n",
    "        mlflow.log_metric('recall_class_3', report['3']['recall'])\n",
    "        mlflow.log_metric('precision_class_3', report['3']['precision'])\n",
    "        mlflow.log_metric('f1_score_macro', report['macro avg']['f1-score'])\n",
    "\n",
    "        if 'XGBOOST' in model_name:\n",
    "            mlflow.xgboost.log_model(model, 'model')\n",
    "        elif 'LightGBM' in model_name:\n",
    "            mlflow.lightgbm.log_model(model, 'model')\n",
    "        else:\n",
    "            mlflow.sklearn.log_model(model, 'model')"
   ],
   "id": "3552c6117a98dd14",
   "outputs": [],
   "execution_count": null
  },
  {
   "metadata": {},
   "cell_type": "code",
   "source": "",
   "id": "310753cc698d4b91",
   "outputs": [],
   "execution_count": null
  }
 ],
 "metadata": {
  "kernelspec": {
   "display_name": "Python 3",
   "language": "python",
   "name": "python3"
  },
  "language_info": {
   "codemirror_mode": {
    "name": "ipython",
    "version": 2
   },
   "file_extension": ".py",
   "mimetype": "text/x-python",
   "name": "python",
   "nbconvert_exporter": "python",
   "pygments_lexer": "ipython2",
   "version": "2.7.6"
  }
 },
 "nbformat": 4,
 "nbformat_minor": 5
}
